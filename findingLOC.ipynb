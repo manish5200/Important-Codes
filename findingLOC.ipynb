{
  "nbformat": 4,
  "nbformat_minor": 0,
  "metadata": {
    "colab": {
      "provenance": [],
      "authorship_tag": "ABX9TyPwy1xSLMq6RrXEUNDO0zvI",
      "include_colab_link": true
    },
    "kernelspec": {
      "name": "python3",
      "display_name": "Python 3"
    },
    "language_info": {
      "name": "python"
    }
  },
  "cells": [
    {
      "cell_type": "markdown",
      "metadata": {
        "id": "view-in-github",
        "colab_type": "text"
      },
      "source": [
        "<a href=\"https://colab.research.google.com/github/manish5200/GFGSolutions/blob/main/findingLOC.ipynb\" target=\"_parent\"><img src=\"https://colab.research.google.com/assets/colab-badge.svg\" alt=\"Open In Colab\"/></a>"
      ]
    },
    {
      "cell_type": "code",
      "execution_count": 2,
      "metadata": {
        "colab": {
          "base_uri": "https://localhost:8080/"
        },
        "id": "xb_L_Z05_0fd",
        "outputId": "47086b40-ce06-4636-b752-9a3e1c27357b"
      },
      "outputs": [
        {
          "output_type": "stream",
          "name": "stdout",
          "text": [
            "Archive:  Transformer.zip\n",
            "   creating: Transformer/codes/\n",
            "   creating: Transformer/codes/__pycache__/\n",
            "  inflating: Transformer/codes/__pycache__/draw.cpython-37.pyc  \n",
            "  inflating: Transformer/codes/__pycache__/gen_graph.cpython-37.pyc  \n",
            "  inflating: Transformer/codes/__pycache__/model.cpython-37.pyc  \n",
            "  inflating: Transformer/codes/__pycache__/model.cpython-38.pyc  \n",
            "  inflating: Transformer/codes/__pycache__/train.cpython-37.pyc  \n",
            "  inflating: Transformer/codes/__pycache__/train.cpython-38.pyc  \n",
            "  inflating: Transformer/codes/__pycache__/transform.cpython-37.pyc  \n",
            "  inflating: Transformer/codes/__pycache__/transform.cpython-38.pyc  \n",
            "  inflating: Transformer/codes/__pycache__/utils.cpython-37.pyc  \n",
            "  inflating: Transformer/codes/__pycache__/utils.cpython-38.pyc  \n",
            "  inflating: Transformer/codes/model.py  \n",
            "  inflating: Transformer/codes/model.pyc  \n",
            "  inflating: Transformer/codes/run.sh  \n",
            "  inflating: Transformer/codes/train.py  \n",
            "  inflating: Transformer/codes/train.pyc  \n",
            "  inflating: Transformer/codes/utils.py  \n",
            "   creating: Transformer/data/\n",
            "  inflating: Transformer/data/anonymized_wifi.json  \n",
            "  inflating: Transformer/data/foursquare.pk  \n",
            "   creating: Transformer/pretrain/\n",
            "   creating: Transformer/results/\n"
          ]
        }
      ],
      "source": [
        "!unzip Transformer.zip\n",
        "\n",
        "import os\n",
        "os.chdir('Transformer/codes/')\n"
      ]
    },
    {
      "cell_type": "code",
      "source": [
        "import model\n",
        "import train\n",
        "import utils\n",
        "\n",
        "file = open(\"model.py\", \"r\")\n",
        "file2 = open(\"train.py\", \"r\")\n",
        "file3 = open(\"utils.py\", \"r\")\n",
        "c1 = 0\n",
        "cc = file.read()\n",
        "l = cc.split(\"\\n\")\n",
        "for i in l:\n",
        "    if i:\n",
        "        c1+= 1\n",
        "\n",
        "c2=0\n",
        "cc = file2.read()\n",
        "l = cc.split(\"\\n\")\n",
        "for i in l:\n",
        "    if i:\n",
        "        c2+= 1\n",
        "\n",
        "c3=0\n",
        "cc= file3.read()\n",
        "l = cc.split(\"\\n\")\n",
        "for i in l:\n",
        "    if i:\n",
        "       c3+=1\n",
        "print(c1+c2+c3)"
      ],
      "metadata": {
        "colab": {
          "base_uri": "https://localhost:8080/"
        },
        "id": "PDxepwYZA3nG",
        "outputId": "55161eb4-3e23-4719-fabf-516afaa58489"
      },
      "execution_count": 16,
      "outputs": [
        {
          "output_type": "stream",
          "name": "stdout",
          "text": [
            "997\n"
          ]
        }
      ]
    }
  ]
}